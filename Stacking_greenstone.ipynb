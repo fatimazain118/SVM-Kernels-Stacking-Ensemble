{
  "nbformat": 4,
  "nbformat_minor": 0,
  "metadata": {
    "colab": {
      "provenance": [],
      "collapsed_sections": [],
      "include_colab_link": true
    },
    "kernelspec": {
      "name": "python3",
      "display_name": "Python 3"
    },
    "language_info": {
      "name": "python"
    }
  },
  "cells": [
    {
      "cell_type": "markdown",
      "metadata": {
        "id": "view-in-github",
        "colab_type": "text"
      },
      "source": [
        "<a href=\"https://colab.research.google.com/github/fatimazain118/SVM-Kernels-Stacking-Ensemble/blob/main/Stacking_greenstone.ipynb\" target=\"_parent\"><img src=\"https://colab.research.google.com/assets/colab-badge.svg\" alt=\"Open In Colab\"/></a>"
      ]
    },
    {
      "cell_type": "code",
      "metadata": {
        "id": "9RzCryQyOt80"
      },
      "source": [
        "from numpy import mean\n",
        "from numpy import std\n",
        "from sklearn.svm import SVC\n",
        "from sklearn.ensemble import StackingClassifier\n",
        "from matplotlib import pyplot"
      ],
      "execution_count": null,
      "outputs": []
    },
    {
      "cell_type": "code",
      "metadata": {
        "id": "xpCB8iw_PGEd"
      },
      "source": [
        "import pandas as pd\n",
        "import numpy as np\n",
        "import matplotlib.pyplot as plt"
      ],
      "execution_count": null,
      "outputs": []
    },
    {
      "cell_type": "code",
      "metadata": {
        "colab": {
          "base_uri": "https://localhost:8080/"
        },
        "id": "huQssrh5PKOC",
        "outputId": "21d835c9-8558-448d-e676-6b81d2776af6"
      },
      "source": [
        "from google.colab import drive\n",
        "drive.mount('/content/gdrive')"
      ],
      "execution_count": null,
      "outputs": [
        {
          "output_type": "stream",
          "name": "stdout",
          "text": [
            "Drive already mounted at /content/gdrive; to attempt to forcibly remount, call drive.mount(\"/content/gdrive\", force_remount=True).\n"
          ]
        }
      ]
    },
    {
      "cell_type": "code",
      "metadata": {
        "id": "tNt374y6PbOf"
      },
      "source": [
        "Abhi = pd.read_csv(\"/content/gdrive/MyDrive/greenstone 3.0.7.csv\")"
      ],
      "execution_count": null,
      "outputs": []
    },
    {
      "cell_type": "code",
      "metadata": {
        "id": "fJQIIuK2PZdk"
      },
      "source": [
        "Abhi['ALTER'] = Abhi['ALTER'].map({'YES': 1, 'NO': 0})"
      ],
      "execution_count": null,
      "outputs": []
    },
    {
      "cell_type": "code",
      "metadata": {
        "colab": {
          "base_uri": "https://localhost:8080/"
        },
        "id": "uqqo-GFzPf_4",
        "outputId": "84a25d14-1da5-4159-b39e-905f9469937d"
      },
      "source": [
        "Abhi.shape"
      ],
      "execution_count": null,
      "outputs": [
        {
          "output_type": "execute_result",
          "data": {
            "text/plain": [
              "(601, 16)"
            ]
          },
          "metadata": {},
          "execution_count": 173
        }
      ]
    },
    {
      "cell_type": "code",
      "metadata": {
        "colab": {
          "base_uri": "https://localhost:8080/",
          "height": 241
        },
        "id": "fxPGysVPPtQV",
        "outputId": "1a9ad8d7-f2b2-40f8-b331-0c7c0422249a"
      },
      "source": [
        "Abhi.head()"
      ],
      "execution_count": null,
      "outputs": [
        {
          "output_type": "execute_result",
          "data": {
            "text/html": [
              "<div>\n",
              "<style scoped>\n",
              "    .dataframe tbody tr th:only-of-type {\n",
              "        vertical-align: middle;\n",
              "    }\n",
              "\n",
              "    .dataframe tbody tr th {\n",
              "        vertical-align: top;\n",
              "    }\n",
              "\n",
              "    .dataframe thead th {\n",
              "        text-align: right;\n",
              "    }\n",
              "</style>\n",
              "<table border=\"1\" class=\"dataframe\">\n",
              "  <thead>\n",
              "    <tr style=\"text-align: right;\">\n",
              "      <th></th>\n",
              "      <th>CountClassCoupled</th>\n",
              "      <th>CountClassDerived</th>\n",
              "      <th>CountDeclInstanceMethod</th>\n",
              "      <th>CountDeclInstanceVariable</th>\n",
              "      <th>CountDeclMethodAll</th>\n",
              "      <th>CountDeclMethodPrivate</th>\n",
              "      <th>CountDeclMethodPublic</th>\n",
              "      <th>CountLineCode</th>\n",
              "      <th>MaxInheritanceTree</th>\n",
              "      <th>PercentLackOfCohesion</th>\n",
              "      <th>SumCyclomatic</th>\n",
              "      <th>ADDED</th>\n",
              "      <th>DELETED</th>\n",
              "      <th>MODIFIED</th>\n",
              "      <th>TOTAL CHANGE</th>\n",
              "      <th>ALTER</th>\n",
              "    </tr>\n",
              "  </thead>\n",
              "  <tbody>\n",
              "    <tr>\n",
              "      <th>0</th>\n",
              "      <td>4</td>\n",
              "      <td>0</td>\n",
              "      <td>30</td>\n",
              "      <td>6</td>\n",
              "      <td>34</td>\n",
              "      <td>12</td>\n",
              "      <td>19</td>\n",
              "      <td>189</td>\n",
              "      <td>1</td>\n",
              "      <td>78</td>\n",
              "      <td>24</td>\n",
              "      <td>8</td>\n",
              "      <td>0</td>\n",
              "      <td>0</td>\n",
              "      <td>8</td>\n",
              "      <td>1</td>\n",
              "    </tr>\n",
              "    <tr>\n",
              "      <th>1</th>\n",
              "      <td>6</td>\n",
              "      <td>0</td>\n",
              "      <td>5</td>\n",
              "      <td>2</td>\n",
              "      <td>5</td>\n",
              "      <td>0</td>\n",
              "      <td>5</td>\n",
              "      <td>133</td>\n",
              "      <td>1</td>\n",
              "      <td>50</td>\n",
              "      <td>20</td>\n",
              "      <td>21</td>\n",
              "      <td>4</td>\n",
              "      <td>1</td>\n",
              "      <td>26</td>\n",
              "      <td>1</td>\n",
              "    </tr>\n",
              "    <tr>\n",
              "      <th>2</th>\n",
              "      <td>7</td>\n",
              "      <td>0</td>\n",
              "      <td>0</td>\n",
              "      <td>0</td>\n",
              "      <td>60</td>\n",
              "      <td>55</td>\n",
              "      <td>5</td>\n",
              "      <td>2124</td>\n",
              "      <td>1</td>\n",
              "      <td>0</td>\n",
              "      <td>355</td>\n",
              "      <td>73</td>\n",
              "      <td>129</td>\n",
              "      <td>20</td>\n",
              "      <td>222</td>\n",
              "      <td>1</td>\n",
              "    </tr>\n",
              "    <tr>\n",
              "      <th>3</th>\n",
              "      <td>21</td>\n",
              "      <td>0</td>\n",
              "      <td>6</td>\n",
              "      <td>0</td>\n",
              "      <td>15</td>\n",
              "      <td>1</td>\n",
              "      <td>14</td>\n",
              "      <td>145</td>\n",
              "      <td>1</td>\n",
              "      <td>85</td>\n",
              "      <td>17</td>\n",
              "      <td>0</td>\n",
              "      <td>0</td>\n",
              "      <td>10</td>\n",
              "      <td>10</td>\n",
              "      <td>1</td>\n",
              "    </tr>\n",
              "    <tr>\n",
              "      <th>4</th>\n",
              "      <td>10</td>\n",
              "      <td>0</td>\n",
              "      <td>13</td>\n",
              "      <td>6</td>\n",
              "      <td>13</td>\n",
              "      <td>7</td>\n",
              "      <td>6</td>\n",
              "      <td>721</td>\n",
              "      <td>1</td>\n",
              "      <td>91</td>\n",
              "      <td>27</td>\n",
              "      <td>8</td>\n",
              "      <td>0</td>\n",
              "      <td>1</td>\n",
              "      <td>9</td>\n",
              "      <td>1</td>\n",
              "    </tr>\n",
              "  </tbody>\n",
              "</table>\n",
              "</div>"
            ],
            "text/plain": [
              "   CountClassCoupled  CountClassDerived  ...  TOTAL CHANGE  ALTER\n",
              "0                  4                  0  ...             8      1\n",
              "1                  6                  0  ...            26      1\n",
              "2                  7                  0  ...           222      1\n",
              "3                 21                  0  ...            10      1\n",
              "4                 10                  0  ...             9      1\n",
              "\n",
              "[5 rows x 16 columns]"
            ]
          },
          "metadata": {},
          "execution_count": 174
        }
      ]
    },
    {
      "cell_type": "code",
      "metadata": {
        "id": "RYLBVI02PxfW"
      },
      "source": [
        "X = Abhi.drop('ALTER', axis=1)\n",
        "y = Abhi['ALTER']"
      ],
      "execution_count": null,
      "outputs": []
    },
    {
      "cell_type": "code",
      "metadata": {
        "id": "XmkcKIPRP0LN"
      },
      "source": [
        "from sklearn.model_selection import train_test_split\n",
        "X_train, X_test, y_train, y_test = train_test_split(X, y, test_size = 0.20)"
      ],
      "execution_count": null,
      "outputs": []
    },
    {
      "cell_type": "code",
      "metadata": {
        "id": "5WdIXCeUP7wg"
      },
      "source": [
        "def get_stacking():\n",
        "\t# define the base models\n",
        "\tlevel0 = list()\n",
        "\tlevel0.append(('sig', SVC(probability=True,kernel='sigmoid')))\n",
        "\tlevel0.append(('lin', SVC(probability=True,kernel='linear')))\n",
        "\tlevel0.append(('poly', SVC(probability=True,kernel='poly')))\n",
        "\tlevel0.append(('rbf', SVC(probability=True,kernel='rbf')))\n",
        "\t# define meta learner model\n",
        "\tlevel1 = SVC(probability=True,kernel='rbf')\n",
        "\t# define the stacking ensemble\n",
        "\tmodel = StackingClassifier(estimators=level0, final_estimator=level1)\n",
        "\treturn model"
      ],
      "execution_count": null,
      "outputs": []
    },
    {
      "cell_type": "code",
      "metadata": {
        "id": "q0tHoqpgYang"
      },
      "source": [
        "def get_models():\n",
        "\tmodels = dict()\n",
        "\t#models['lin'] = SVC(kernel='linear')\n",
        "\t#models['sig'] = SVC(kernel='sigmoid')\n",
        "\t#models['poly'] = SVC(kernel='poly')\n",
        "\t#models['rbf'] = SVC(kernel='rbf')\n",
        "\n",
        "\tmodels['stacking'] = get_stacking()\n",
        "\treturn models"
      ],
      "execution_count": null,
      "outputs": []
    },
    {
      "cell_type": "code",
      "metadata": {
        "id": "vlbwdA-gYh25"
      },
      "source": [
        "# evaluate a give model\n",
        "def evaluate_model(model, X, y):\n",
        "  model=model.fit(X_train,y_train)\n",
        "  y_pred = model.predict(X_test)\n",
        "  return y_pred"
      ],
      "execution_count": null,
      "outputs": []
    },
    {
      "cell_type": "code",
      "metadata": {
        "id": "NXxHjTWuY31A"
      },
      "source": [
        "models = get_models()"
      ],
      "execution_count": null,
      "outputs": []
    },
    {
      "cell_type": "code",
      "metadata": {
        "colab": {
          "base_uri": "https://localhost:8080/"
        },
        "id": "PiduNX5YY4fL",
        "outputId": "908bf9a3-22a9-4391-d92d-3835a16102e0"
      },
      "source": [
        "results, names = list(), list()\n",
        "for name, model in models.items():\n",
        "    y_pred = evaluate_model(model, X, y)\n",
        "    results.append(y_pred)\n",
        "    names.append(name)\n",
        "    print('>%s %.3f (%.3f)' % (name, mean(y_pred), std(y_pred)))\n"
      ],
      "execution_count": null,
      "outputs": [
        {
          "output_type": "stream",
          "name": "stdout",
          "text": [
            ">stacking 0.207 (0.405)\n"
          ]
        }
      ]
    },
    {
      "cell_type": "code",
      "metadata": {
        "colab": {
          "base_uri": "https://localhost:8080/"
        },
        "id": "rTcjaP0EZCvf",
        "outputId": "ddb3ed46-ed18-481f-eac3-9c8f5b0e6e85"
      },
      "source": [
        "print(y_pred)"
      ],
      "execution_count": null,
      "outputs": [
        {
          "output_type": "stream",
          "name": "stdout",
          "text": [
            "[0 0 0 0 0 0 0 1 0 0 0 0 0 0 0 0 1 0 0 0 1 0 0 0 0 0 0 1 0 0 0 0 0 0 0 1 0\n",
            " 0 0 0 1 0 0 0 0 0 0 0 0 0 1 1 1 0 1 1 1 0 0 0 1 0 0 0 0 0 1 0 1 0 0 0 0 1\n",
            " 0 0 0 0 0 1 0 0 1 0 0 0 0 0 0 0 0 1 1 0 0 0 0 1 0 0 0 0 0 0 0 1 0 0 0 0 1\n",
            " 1 0 0 0 0 0 0 1 0 0]\n"
          ]
        }
      ]
    },
    {
      "cell_type": "code",
      "metadata": {
        "colab": {
          "base_uri": "https://localhost:8080/"
        },
        "id": "sWK7YbUIUzvy",
        "outputId": "ef9f0f37-ac21-41e1-e9f1-14e091956cb1"
      },
      "source": [
        "from sklearn.metrics import classification_report, confusion_matrix\n",
        "cm=confusion_matrix(y_test,y_pred)\n",
        "print(cm)"
      ],
      "execution_count": null,
      "outputs": [
        {
          "output_type": "stream",
          "name": "stdout",
          "text": [
            "[[92  0]\n",
            " [ 4 25]]\n"
          ]
        }
      ]
    },
    {
      "cell_type": "code",
      "metadata": {
        "id": "ApMDCa3qlFCn",
        "colab": {
          "base_uri": "https://localhost:8080/"
        },
        "outputId": "49500a83-fdb4-4818-f3f4-e7734768fbd1"
      },
      "source": [
        "# predict probabilities\n",
        "from sklearn.metrics import roc_auc_score\n",
        "pred_prob = model.predict_proba(X_test)\n",
        "auc_score = roc_auc_score(y_test, pred_prob[:,1])\n",
        "print(\"Area Under Curve=\")\n",
        "print(auc_score)"
      ],
      "execution_count": null,
      "outputs": [
        {
          "output_type": "stream",
          "name": "stdout",
          "text": [
            "Area Under Curve=\n",
            "1.0\n"
          ]
        }
      ]
    },
    {
      "cell_type": "code",
      "metadata": {
        "colab": {
          "base_uri": "https://localhost:8080/"
        },
        "id": "zcZLI5TLU3ic",
        "outputId": "92058cab-341d-47b9-8048-7d69578fa10e"
      },
      "source": [
        "from sklearn.metrics import matthews_corrcoef\n",
        "mcc=matthews_corrcoef(y_test,y_pred)\n",
        "print(\"Matthews correlation coefficient=\")\n",
        "print(mcc)"
      ],
      "execution_count": null,
      "outputs": [
        {
          "output_type": "stream",
          "name": "stdout",
          "text": [
            "Matthews correlation coefficient=\n",
            "0.9089276237893511\n"
          ]
        }
      ]
    },
    {
      "cell_type": "code",
      "metadata": {
        "id": "o1lgJwGlmHUB",
        "colab": {
          "base_uri": "https://localhost:8080/"
        },
        "outputId": "2a2d5444-d1f0-4d16-df9e-c510c2d4a2dc"
      },
      "source": [
        "from sklearn.metrics import balanced_accuracy_score\n",
        "bac=balanced_accuracy_score(y_test, y_pred)\n",
        "print(\"Balanced Accuracy Score=\")\n",
        "print(bac)"
      ],
      "execution_count": null,
      "outputs": [
        {
          "output_type": "stream",
          "name": "stdout",
          "text": [
            "Balanced Accuracy Score=\n",
            "0.9310344827586207\n"
          ]
        }
      ]
    },
    {
      "cell_type": "code",
      "metadata": {
        "colab": {
          "base_uri": "https://localhost:8080/"
        },
        "id": "MK0q5fZhZKGv",
        "outputId": "3417d457-19e7-4de1-e172-6a51c4adc77d"
      },
      "source": [
        "from imblearn.metrics import geometric_mean_score\n",
        "gmean=geometric_mean_score(y_test, y_pred)\n",
        "print(\"Geometric Mean Score=\")\n",
        "print(gmean)"
      ],
      "execution_count": null,
      "outputs": [
        {
          "output_type": "stream",
          "name": "stdout",
          "text": [
            "Geometric Mean Score=\n",
            "0.9284766908852593\n"
          ]
        }
      ]
    },
    {
      "cell_type": "code",
      "metadata": {
        "colab": {
          "base_uri": "https://localhost:8080/"
        },
        "id": "d_632z4Entt-",
        "outputId": "4a124110-270c-4c01-8be1-c802dcb2536a"
      },
      "source": [
        "print(classification_report(y_test,y_pred))"
      ],
      "execution_count": null,
      "outputs": [
        {
          "output_type": "stream",
          "name": "stdout",
          "text": [
            "              precision    recall  f1-score   support\n",
            "\n",
            "           0       0.96      1.00      0.98        92\n",
            "           1       1.00      0.86      0.93        29\n",
            "\n",
            "    accuracy                           0.97       121\n",
            "   macro avg       0.98      0.93      0.95       121\n",
            "weighted avg       0.97      0.97      0.97       121\n",
            "\n"
          ]
        }
      ]
    }
  ]
}