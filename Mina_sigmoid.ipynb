{
  "nbformat": 4,
  "nbformat_minor": 0,
  "metadata": {
    "colab": {
      "name": "Mina_sigmoid.ipynb",
      "provenance": [],
      "collapsed_sections": [],
      "include_colab_link": true
    },
    "kernelspec": {
      "name": "python3",
      "display_name": "Python 3"
    },
    "language_info": {
      "name": "python"
    }
  },
  "cells": [
    {
      "cell_type": "markdown",
      "metadata": {
        "id": "view-in-github",
        "colab_type": "text"
      },
      "source": [
        "<a href=\"https://colab.research.google.com/github/AbhishekkTrivedi/SVM-kernels-independent-results-New-/blob/main/Mina_sigmoid.ipynb\" target=\"_parent\"><img src=\"https://colab.research.google.com/assets/colab-badge.svg\" alt=\"Open In Colab\"/></a>"
      ]
    },
    {
      "cell_type": "code",
      "metadata": {
        "id": "DGLGsWkr0pu_",
        "colab": {
          "base_uri": "https://localhost:8080/"
        },
        "outputId": "2a3d2829-8c40-49b6-9f8f-caa6bc32df53"
      },
      "source": [
        "from google.colab import drive\n",
        "drive.mount('/content/gdrive')"
      ],
      "execution_count": 47,
      "outputs": [
        {
          "output_type": "stream",
          "name": "stdout",
          "text": [
            "Drive already mounted at /content/gdrive; to attempt to forcibly remount, call drive.mount(\"/content/gdrive\", force_remount=True).\n"
          ]
        }
      ]
    },
    {
      "cell_type": "code",
      "metadata": {
        "id": "NpstWfkEiTrO"
      },
      "source": [
        "import pandas as pd\n",
        "import numpy as np\n",
        "import matplotlib.pyplot as plt\n",
        "%matplotlib inline"
      ],
      "execution_count": 48,
      "outputs": []
    },
    {
      "cell_type": "code",
      "metadata": {
        "id": "q3fpzPeLAUfW"
      },
      "source": [
        "Abhi = pd.read_csv(\"/content/gdrive/MyDrive/mina data 2.0.7-2.0.8.csv\")"
      ],
      "execution_count": 49,
      "outputs": []
    },
    {
      "cell_type": "code",
      "metadata": {
        "id": "f0yh-GduT6LK"
      },
      "source": [
        "Abhi['change'] = Abhi['change'].map({'yes': 1, 'no': 0})"
      ],
      "execution_count": 50,
      "outputs": []
    },
    {
      "cell_type": "code",
      "metadata": {
        "colab": {
          "base_uri": "https://localhost:8080/"
        },
        "id": "muwad1o3ilJv",
        "outputId": "0b96781e-a005-4dcc-eb80-f4ce33bb6bac"
      },
      "source": [
        "Abhi.shape\n"
      ],
      "execution_count": 51,
      "outputs": [
        {
          "output_type": "execute_result",
          "data": {
            "text/plain": [
              "(610, 8)"
            ]
          },
          "metadata": {},
          "execution_count": 51
        }
      ]
    },
    {
      "cell_type": "code",
      "metadata": {
        "colab": {
          "base_uri": "https://localhost:8080/",
          "height": 204
        },
        "id": "Ts6_TC0yipyn",
        "outputId": "897a689c-dad0-4458-cd38-9c8eb431152b"
      },
      "source": [
        "Abhi.head()"
      ],
      "execution_count": 52,
      "outputs": [
        {
          "output_type": "execute_result",
          "data": {
            "text/html": [
              "<div>\n",
              "<style scoped>\n",
              "    .dataframe tbody tr th:only-of-type {\n",
              "        vertical-align: middle;\n",
              "    }\n",
              "\n",
              "    .dataframe tbody tr th {\n",
              "        vertical-align: top;\n",
              "    }\n",
              "\n",
              "    .dataframe thead th {\n",
              "        text-align: right;\n",
              "    }\n",
              "</style>\n",
              "<table border=\"1\" class=\"dataframe\">\n",
              "  <thead>\n",
              "    <tr style=\"text-align: right;\">\n",
              "      <th></th>\n",
              "      <th>CBO</th>\n",
              "      <th>NOC</th>\n",
              "      <th>WMC</th>\n",
              "      <th>RFC</th>\n",
              "      <th>SLOC</th>\n",
              "      <th>DIT</th>\n",
              "      <th>LCOM</th>\n",
              "      <th>change</th>\n",
              "    </tr>\n",
              "  </thead>\n",
              "  <tbody>\n",
              "    <tr>\n",
              "      <th>0</th>\n",
              "      <td>1</td>\n",
              "      <td>0</td>\n",
              "      <td>4</td>\n",
              "      <td>53</td>\n",
              "      <td>15</td>\n",
              "      <td>0</td>\n",
              "      <td>100</td>\n",
              "      <td>0</td>\n",
              "    </tr>\n",
              "    <tr>\n",
              "      <th>1</th>\n",
              "      <td>10</td>\n",
              "      <td>0</td>\n",
              "      <td>12</td>\n",
              "      <td>391</td>\n",
              "      <td>74</td>\n",
              "      <td>2</td>\n",
              "      <td>66</td>\n",
              "      <td>0</td>\n",
              "    </tr>\n",
              "    <tr>\n",
              "      <th>2</th>\n",
              "      <td>25</td>\n",
              "      <td>2</td>\n",
              "      <td>181</td>\n",
              "      <td>194</td>\n",
              "      <td>225</td>\n",
              "      <td>0</td>\n",
              "      <td>98</td>\n",
              "      <td>0</td>\n",
              "    </tr>\n",
              "    <tr>\n",
              "      <th>3</th>\n",
              "      <td>4</td>\n",
              "      <td>0</td>\n",
              "      <td>1</td>\n",
              "      <td>14</td>\n",
              "      <td>47</td>\n",
              "      <td>0</td>\n",
              "      <td>66</td>\n",
              "      <td>0</td>\n",
              "    </tr>\n",
              "    <tr>\n",
              "      <th>4</th>\n",
              "      <td>34</td>\n",
              "      <td>0</td>\n",
              "      <td>40</td>\n",
              "      <td>53</td>\n",
              "      <td>1049</td>\n",
              "      <td>0</td>\n",
              "      <td>0</td>\n",
              "      <td>0</td>\n",
              "    </tr>\n",
              "  </tbody>\n",
              "</table>\n",
              "</div>"
            ],
            "text/plain": [
              "   CBO  NOC  WMC  RFC  SLOC  DIT  LCOM  change\n",
              "0    1    0    4   53    15    0   100       0\n",
              "1   10    0   12  391    74    2    66       0\n",
              "2   25    2  181  194   225    0    98       0\n",
              "3    4    0    1   14    47    0    66       0\n",
              "4   34    0   40   53  1049    0     0       0"
            ]
          },
          "metadata": {},
          "execution_count": 52
        }
      ]
    },
    {
      "cell_type": "code",
      "metadata": {
        "id": "Q9iWpxfSAxKp"
      },
      "source": [
        "X = Abhi.drop('change', axis=1)\n",
        "y = Abhi['change']"
      ],
      "execution_count": 53,
      "outputs": []
    },
    {
      "cell_type": "code",
      "metadata": {
        "id": "BFHANSzji_Na"
      },
      "source": [
        "from sklearn.model_selection import train_test_split\n",
        "X_train, X_test, y_train, y_test = train_test_split(X, y, test_size = 0.20)"
      ],
      "execution_count": 54,
      "outputs": []
    },
    {
      "cell_type": "code",
      "metadata": {
        "id": "5k_4pi3UjCNL",
        "colab": {
          "base_uri": "https://localhost:8080/"
        },
        "outputId": "f9a4f6ac-989c-494a-9815-ede39e2cc01a"
      },
      "source": [
        "from sklearn.svm import SVC\n",
        "svclassifier = SVC(kernel='sigmoid', probability=True)\n",
        "svclassifier.fit(X_train, y_train)"
      ],
      "execution_count": 55,
      "outputs": [
        {
          "output_type": "execute_result",
          "data": {
            "text/plain": [
              "SVC(C=1.0, break_ties=False, cache_size=200, class_weight=None, coef0=0.0,\n",
              "    decision_function_shape='ovr', degree=3, gamma='scale', kernel='sigmoid',\n",
              "    max_iter=-1, probability=True, random_state=None, shrinking=True, tol=0.001,\n",
              "    verbose=False)"
            ]
          },
          "metadata": {},
          "execution_count": 55
        }
      ]
    },
    {
      "cell_type": "code",
      "metadata": {
        "id": "kC7pFn5QjF5U"
      },
      "source": [
        "y_pred = svclassifier.predict(X_test)"
      ],
      "execution_count": 56,
      "outputs": []
    },
    {
      "cell_type": "code",
      "metadata": {
        "id": "vw5XsTE4jI-T",
        "colab": {
          "base_uri": "https://localhost:8080/"
        },
        "outputId": "c79e2399-3270-40d6-85f1-7a99e89c19a8"
      },
      "source": [
        "from sklearn.metrics import classification_report, confusion_matrix\n",
        "cm=confusion_matrix(y_test,y_pred)\n",
        "print(cm)"
      ],
      "execution_count": 57,
      "outputs": [
        {
          "output_type": "stream",
          "name": "stdout",
          "text": [
            "[[106   0]\n",
            " [ 16   0]]\n"
          ]
        }
      ]
    },
    {
      "cell_type": "code",
      "metadata": {
        "id": "BdAE_05mND79",
        "colab": {
          "base_uri": "https://localhost:8080/"
        },
        "outputId": "0efe6eea-4795-411b-b8ef-44b6cca3ae1b"
      },
      "source": [
        "# predict probabilities\n",
        "from sklearn.metrics import roc_auc_score\n",
        "pred_prob = svclassifier.predict_proba(X_test)\n",
        "auc_score = roc_auc_score(y_test, pred_prob[:,1])\n",
        "print(\"Area Under Curve=\")\n",
        "print(auc_score)"
      ],
      "execution_count": 58,
      "outputs": [
        {
          "output_type": "stream",
          "name": "stdout",
          "text": [
            "Area Under Curve=\n",
            "0.4221698113207547\n"
          ]
        }
      ]
    },
    {
      "cell_type": "code",
      "metadata": {
        "id": "mI906jbfQJa4",
        "colab": {
          "base_uri": "https://localhost:8080/"
        },
        "outputId": "f006db1c-f848-4974-9098-3c048f7565e3"
      },
      "source": [
        "from sklearn.metrics import matthews_corrcoef\n",
        "mcc=matthews_corrcoef(y_test,y_pred)\n",
        "print(\"Matthews correlation coefficient=\")\n",
        "print(mcc)"
      ],
      "execution_count": 59,
      "outputs": [
        {
          "output_type": "stream",
          "name": "stdout",
          "text": [
            "Matthews correlation coefficient=\n",
            "0.0\n"
          ]
        },
        {
          "output_type": "stream",
          "name": "stderr",
          "text": [
            "/usr/local/lib/python3.7/dist-packages/sklearn/metrics/_classification.py:900: RuntimeWarning: invalid value encountered in double_scalars\n",
            "  mcc = cov_ytyp / np.sqrt(cov_ytyt * cov_ypyp)\n"
          ]
        }
      ]
    },
    {
      "cell_type": "code",
      "metadata": {
        "id": "J5HuvO8gRR0b",
        "colab": {
          "base_uri": "https://localhost:8080/"
        },
        "outputId": "eb51d6b5-7024-4a16-d52b-c83c65b96767"
      },
      "source": [
        "from sklearn.metrics import balanced_accuracy_score\n",
        "bac=balanced_accuracy_score(y_test, y_pred)\n",
        "print(\"Balanced Accuracy Score=\")\n",
        "print(bac)"
      ],
      "execution_count": 60,
      "outputs": [
        {
          "output_type": "stream",
          "name": "stdout",
          "text": [
            "Balanced Accuracy Score=\n",
            "0.5\n"
          ]
        }
      ]
    },
    {
      "cell_type": "code",
      "metadata": {
        "id": "os0Xf26kSt5M",
        "colab": {
          "base_uri": "https://localhost:8080/"
        },
        "outputId": "c07602a5-3934-4c09-afad-14a289ec2da7"
      },
      "source": [
        "from imblearn.metrics import geometric_mean_score\n",
        "gmean=geometric_mean_score(y_test, y_pred)\n",
        "print(\"Geometric Mean Score=\")\n",
        "print(gmean)"
      ],
      "execution_count": 61,
      "outputs": [
        {
          "output_type": "stream",
          "name": "stdout",
          "text": [
            "Geometric Mean Score=\n",
            "0.0\n"
          ]
        }
      ]
    }
  ]
}