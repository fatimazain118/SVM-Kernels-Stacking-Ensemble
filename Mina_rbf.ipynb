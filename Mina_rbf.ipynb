{
  "nbformat": 4,
  "nbformat_minor": 0,
  "metadata": {
    "colab": {
      "name": "Mina_rbf.ipynb",
      "provenance": [],
      "collapsed_sections": [],
      "include_colab_link": true
    },
    "kernelspec": {
      "name": "python3",
      "display_name": "Python 3"
    },
    "language_info": {
      "name": "python"
    }
  },
  "cells": [
    {
      "cell_type": "markdown",
      "metadata": {
        "id": "view-in-github",
        "colab_type": "text"
      },
      "source": [
        "<a href=\"https://colab.research.google.com/github/AbhishekkTrivedi/SVM-kernels-independent-results-New-/blob/main/Mina_rbf.ipynb\" target=\"_parent\"><img src=\"https://colab.research.google.com/assets/colab-badge.svg\" alt=\"Open In Colab\"/></a>"
      ]
    },
    {
      "cell_type": "code",
      "metadata": {
        "id": "DGLGsWkr0pu_",
        "colab": {
          "base_uri": "https://localhost:8080/"
        },
        "outputId": "acb87567-af2a-45ab-bf75-7fa726e447dc"
      },
      "source": [
        "from google.colab import drive\n",
        "drive.mount('/content/gdrive')"
      ],
      "execution_count": 17,
      "outputs": [
        {
          "output_type": "stream",
          "name": "stdout",
          "text": [
            "Drive already mounted at /content/gdrive; to attempt to forcibly remount, call drive.mount(\"/content/gdrive\", force_remount=True).\n"
          ]
        }
      ]
    },
    {
      "cell_type": "code",
      "metadata": {
        "id": "NpstWfkEiTrO"
      },
      "source": [
        "import pandas as pd\n",
        "import numpy as np\n",
        "import matplotlib.pyplot as plt\n",
        "%matplotlib inline"
      ],
      "execution_count": 18,
      "outputs": []
    },
    {
      "cell_type": "code",
      "metadata": {
        "id": "q3fpzPeLAUfW"
      },
      "source": [
        "Abhi = pd.read_csv(\"/content/gdrive/MyDrive/mina data 2.0.7-2.0.8.csv\")"
      ],
      "execution_count": 19,
      "outputs": []
    },
    {
      "cell_type": "code",
      "metadata": {
        "id": "f0yh-GduT6LK"
      },
      "source": [
        "Abhi['change'] = Abhi['change'].map({'yes': 1, 'no': 0})"
      ],
      "execution_count": 20,
      "outputs": []
    },
    {
      "cell_type": "code",
      "metadata": {
        "colab": {
          "base_uri": "https://localhost:8080/"
        },
        "id": "muwad1o3ilJv",
        "outputId": "42c8d38a-ba46-40bc-b405-64c1c2d18d18"
      },
      "source": [
        "Abhi.shape\n"
      ],
      "execution_count": 21,
      "outputs": [
        {
          "output_type": "execute_result",
          "data": {
            "text/plain": [
              "(610, 8)"
            ]
          },
          "metadata": {},
          "execution_count": 21
        }
      ]
    },
    {
      "cell_type": "code",
      "metadata": {
        "colab": {
          "base_uri": "https://localhost:8080/",
          "height": 204
        },
        "id": "Ts6_TC0yipyn",
        "outputId": "71c99c3f-382a-4f70-a7cd-fd42f2b60e1c"
      },
      "source": [
        "Abhi.head()"
      ],
      "execution_count": 22,
      "outputs": [
        {
          "output_type": "execute_result",
          "data": {
            "text/html": [
              "<div>\n",
              "<style scoped>\n",
              "    .dataframe tbody tr th:only-of-type {\n",
              "        vertical-align: middle;\n",
              "    }\n",
              "\n",
              "    .dataframe tbody tr th {\n",
              "        vertical-align: top;\n",
              "    }\n",
              "\n",
              "    .dataframe thead th {\n",
              "        text-align: right;\n",
              "    }\n",
              "</style>\n",
              "<table border=\"1\" class=\"dataframe\">\n",
              "  <thead>\n",
              "    <tr style=\"text-align: right;\">\n",
              "      <th></th>\n",
              "      <th>CBO</th>\n",
              "      <th>NOC</th>\n",
              "      <th>WMC</th>\n",
              "      <th>RFC</th>\n",
              "      <th>SLOC</th>\n",
              "      <th>DIT</th>\n",
              "      <th>LCOM</th>\n",
              "      <th>change</th>\n",
              "    </tr>\n",
              "  </thead>\n",
              "  <tbody>\n",
              "    <tr>\n",
              "      <th>0</th>\n",
              "      <td>1</td>\n",
              "      <td>0</td>\n",
              "      <td>4</td>\n",
              "      <td>53</td>\n",
              "      <td>15</td>\n",
              "      <td>0</td>\n",
              "      <td>100</td>\n",
              "      <td>0</td>\n",
              "    </tr>\n",
              "    <tr>\n",
              "      <th>1</th>\n",
              "      <td>10</td>\n",
              "      <td>0</td>\n",
              "      <td>12</td>\n",
              "      <td>391</td>\n",
              "      <td>74</td>\n",
              "      <td>2</td>\n",
              "      <td>66</td>\n",
              "      <td>0</td>\n",
              "    </tr>\n",
              "    <tr>\n",
              "      <th>2</th>\n",
              "      <td>25</td>\n",
              "      <td>2</td>\n",
              "      <td>181</td>\n",
              "      <td>194</td>\n",
              "      <td>225</td>\n",
              "      <td>0</td>\n",
              "      <td>98</td>\n",
              "      <td>0</td>\n",
              "    </tr>\n",
              "    <tr>\n",
              "      <th>3</th>\n",
              "      <td>4</td>\n",
              "      <td>0</td>\n",
              "      <td>1</td>\n",
              "      <td>14</td>\n",
              "      <td>47</td>\n",
              "      <td>0</td>\n",
              "      <td>66</td>\n",
              "      <td>0</td>\n",
              "    </tr>\n",
              "    <tr>\n",
              "      <th>4</th>\n",
              "      <td>34</td>\n",
              "      <td>0</td>\n",
              "      <td>40</td>\n",
              "      <td>53</td>\n",
              "      <td>1049</td>\n",
              "      <td>0</td>\n",
              "      <td>0</td>\n",
              "      <td>0</td>\n",
              "    </tr>\n",
              "  </tbody>\n",
              "</table>\n",
              "</div>"
            ],
            "text/plain": [
              "   CBO  NOC  WMC  RFC  SLOC  DIT  LCOM  change\n",
              "0    1    0    4   53    15    0   100       0\n",
              "1   10    0   12  391    74    2    66       0\n",
              "2   25    2  181  194   225    0    98       0\n",
              "3    4    0    1   14    47    0    66       0\n",
              "4   34    0   40   53  1049    0     0       0"
            ]
          },
          "metadata": {},
          "execution_count": 22
        }
      ]
    },
    {
      "cell_type": "code",
      "metadata": {
        "id": "Q9iWpxfSAxKp"
      },
      "source": [
        "X = Abhi.drop('change', axis=1)\n",
        "y = Abhi['change']"
      ],
      "execution_count": 23,
      "outputs": []
    },
    {
      "cell_type": "code",
      "metadata": {
        "id": "BFHANSzji_Na"
      },
      "source": [
        "from sklearn.model_selection import train_test_split\n",
        "X_train, X_test, y_train, y_test = train_test_split(X, y, test_size = 0.20)"
      ],
      "execution_count": 24,
      "outputs": []
    },
    {
      "cell_type": "code",
      "metadata": {
        "id": "5k_4pi3UjCNL",
        "colab": {
          "base_uri": "https://localhost:8080/"
        },
        "outputId": "5487d50a-ed7b-4f98-e9f1-81869a9c4c6c"
      },
      "source": [
        "from sklearn.svm import SVC\n",
        "svclassifier = SVC(kernel='rbf', probability=True)\n",
        "svclassifier.fit(X_train, y_train)"
      ],
      "execution_count": 25,
      "outputs": [
        {
          "output_type": "execute_result",
          "data": {
            "text/plain": [
              "SVC(C=1.0, break_ties=False, cache_size=200, class_weight=None, coef0=0.0,\n",
              "    decision_function_shape='ovr', degree=3, gamma='scale', kernel='rbf',\n",
              "    max_iter=-1, probability=True, random_state=None, shrinking=True, tol=0.001,\n",
              "    verbose=False)"
            ]
          },
          "metadata": {},
          "execution_count": 25
        }
      ]
    },
    {
      "cell_type": "code",
      "metadata": {
        "id": "kC7pFn5QjF5U"
      },
      "source": [
        "y_pred = svclassifier.predict(X_test)"
      ],
      "execution_count": 26,
      "outputs": []
    },
    {
      "cell_type": "code",
      "metadata": {
        "id": "vw5XsTE4jI-T",
        "colab": {
          "base_uri": "https://localhost:8080/"
        },
        "outputId": "2ed613ab-4e53-4ffd-a064-264ed7b27dd4"
      },
      "source": [
        "from sklearn.metrics import classification_report, confusion_matrix\n",
        "cm=confusion_matrix(y_test,y_pred)\n",
        "print(cm)"
      ],
      "execution_count": 27,
      "outputs": [
        {
          "output_type": "stream",
          "name": "stdout",
          "text": [
            "[[101   3]\n",
            " [ 15   3]]\n"
          ]
        }
      ]
    },
    {
      "cell_type": "code",
      "metadata": {
        "id": "BdAE_05mND79",
        "colab": {
          "base_uri": "https://localhost:8080/"
        },
        "outputId": "bac71b7f-7ff4-4317-c426-7ee09ec1f4fd"
      },
      "source": [
        "# predict probabilities\n",
        "from sklearn.metrics import roc_auc_score\n",
        "pred_prob = svclassifier.predict_proba(X_test)\n",
        "auc_score = roc_auc_score(y_test, pred_prob[:,1])\n",
        "print(\"Area Under Curve=\")\n",
        "print(auc_score)"
      ],
      "execution_count": 28,
      "outputs": [
        {
          "output_type": "stream",
          "name": "stdout",
          "text": [
            "Area Under Curve=\n",
            "0.6436965811965812\n"
          ]
        }
      ]
    },
    {
      "cell_type": "code",
      "metadata": {
        "id": "mI906jbfQJa4",
        "colab": {
          "base_uri": "https://localhost:8080/"
        },
        "outputId": "f17621d9-d54f-48ea-c1aa-c03e2ad84553"
      },
      "source": [
        "from sklearn.metrics import matthews_corrcoef\n",
        "mcc=matthews_corrcoef(y_test,y_pred)\n",
        "print(\"Matthews correlation coefficient=\")\n",
        "print(mcc)"
      ],
      "execution_count": 29,
      "outputs": [
        {
          "output_type": "stream",
          "name": "stdout",
          "text": [
            "Matthews correlation coefficient=\n",
            "0.22602795927300928\n"
          ]
        }
      ]
    },
    {
      "cell_type": "code",
      "metadata": {
        "id": "J5HuvO8gRR0b",
        "colab": {
          "base_uri": "https://localhost:8080/"
        },
        "outputId": "4094cee3-259b-479e-884b-4a59e3f4d23b"
      },
      "source": [
        "from sklearn.metrics import balanced_accuracy_score\n",
        "bac=balanced_accuracy_score(y_test, y_pred)\n",
        "print(\"Balanced Accuracy Score=\")\n",
        "print(bac)"
      ],
      "execution_count": 30,
      "outputs": [
        {
          "output_type": "stream",
          "name": "stdout",
          "text": [
            "Balanced Accuracy Score=\n",
            "0.5689102564102564\n"
          ]
        }
      ]
    },
    {
      "cell_type": "code",
      "metadata": {
        "id": "os0Xf26kSt5M",
        "colab": {
          "base_uri": "https://localhost:8080/"
        },
        "outputId": "0155c9c5-6fa7-4bb1-8e23-71edccb6679c"
      },
      "source": [
        "from imblearn.metrics import geometric_mean_score\n",
        "gmean=geometric_mean_score(y_test, y_pred)\n",
        "print(\"Geometric Mean Score=\")\n",
        "print(gmean)"
      ],
      "execution_count": 31,
      "outputs": [
        {
          "output_type": "stream",
          "name": "stdout",
          "text": [
            "Geometric Mean Score=\n",
            "0.40231700729521036\n"
          ]
        }
      ]
    }
  ]
}